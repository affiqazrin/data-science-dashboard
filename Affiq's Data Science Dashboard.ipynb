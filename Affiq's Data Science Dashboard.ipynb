{
 "cells": [
  {
   "cell_type": "markdown",
   "id": "17496afc",
   "metadata": {},
   "source": [
    "## Affiq's Data Science Dashboard"
   ]
  },
  {
   "cell_type": "code",
   "execution_count": null,
   "id": "1fd74028",
   "metadata": {},
   "outputs": [],
   "source": [
    "import yfinance as yf\n",
    "import pandas as pd\n",
    "import requests\n",
    "import plotly.graph_objects as go\n",
    "\n",
    "from bs4 import BeautifulSoup\n",
    "from plotly.subplots import make_subplots"
   ]
  },
  {
   "cell_type": "markdown",
   "id": "110e644d",
   "metadata": {},
   "source": [
    "### Q1"
   ]
  },
  {
   "cell_type": "code",
   "execution_count": null,
   "id": "2819af7b",
   "metadata": {},
   "outputs": [],
   "source": [
    "tesla=yf.Ticker('TSLA')"
   ]
  },
  {
   "cell_type": "code",
   "execution_count": null,
   "id": "8ad9fe9f",
   "metadata": {},
   "outputs": [],
   "source": [
    "teslaData=tesla.history(period=\"max\")\n",
    "teslaData.reset_index(inplace=True)\n",
    "teslaData.head(5)"
   ]
  },
  {
   "cell_type": "markdown",
   "id": "54f6ecc1",
   "metadata": {},
   "source": [
    "### Q2"
   ]
  },
  {
   "cell_type": "code",
   "execution_count": null,
   "id": "1d67aeee",
   "metadata": {},
   "outputs": [],
   "source": [
    "html_data=requests.get(\"https://www.macrotrends.net/stocks/charts/TSLA/tesla/revenue\").text"
   ]
  },
  {
   "cell_type": "code",
   "execution_count": null,
   "id": "7c963937",
   "metadata": {},
   "outputs": [],
   "source": [
    "bsoup=BeautifulSoup(html_data,\"html5lib\")\n",
    "print(bsoup.prettify())"
   ]
  },
  {
   "cell_type": "code",
   "execution_count": null,
   "id": "0167da38",
   "metadata": {},
   "outputs": [],
   "source": [
    "teslaRevenue=pd.DataFrame(columns=[\"Date\",\"Revenue\"])\n",
    "\n",
    "for table in bsoup.find_all('table'):\n",
    "    if table.find('th').getText().startswith(\"Tesla Quarterly Revenue\"):\n",
    "        for row in table.find(\"tbody\").find_all(\"tr\"):\n",
    "            col=row.find_all(\"td\")\n",
    "            if len(col)!=2: continue\n",
    "            Date=col[0].text\n",
    "            Revenue=col[1].text.replace(\"$\",\"\").replace(\",\",\"\")\n",
    "               \n",
    "            teslaRevenue=tesla_revenue.append({\"Date\":Date, \"Revenue\":Revenue}, ignore_index=True)"
   ]
  },
  {
   "cell_type": "code",
   "execution_count": null,
   "id": "9e675a52",
   "metadata": {},
   "outputs": [],
   "source": [
    "teslaRevenue.dropna(axis=0, how='all', subset=['Revenue'])\n",
    "teslaRevenue=teslaRevenue[teslaRevenue['Revenue']!=\"\"]\n",
    "\n",
    "teslaRevenue.tail(5)"
   ]
  },
  {
   "cell_type": "markdown",
   "id": "ecc348b5",
   "metadata": {},
   "source": [
    "### Q3"
   ]
  },
  {
   "cell_type": "code",
   "execution_count": null,
   "id": "41809a21",
   "metadata": {},
   "outputs": [],
   "source": [
    "gme=yf.Ticker('GME')"
   ]
  },
  {
   "cell_type": "code",
   "execution_count": null,
   "id": "ca3e2f50",
   "metadata": {},
   "outputs": [],
   "source": [
    "gmeData=gme.history(period=\"max\")\n",
    "gmeData.reset_index(inplace=True)\n",
    "gmeData.head(5)"
   ]
  },
  {
   "cell_type": "markdown",
   "id": "a90f59a4",
   "metadata": {},
   "source": [
    "### Q4"
   ]
  },
  {
   "cell_type": "code",
   "execution_count": null,
   "id": "e61e81b2",
   "metadata": {},
   "outputs": [],
   "source": [
    "html_data2=requests.get(\"https://www.macrotrends.net/stocks/charts/GME/gamestop/revenue\").text"
   ]
  },
  {
   "cell_type": "code",
   "execution_count": null,
   "id": "2b9e9400",
   "metadata": {},
   "outputs": [],
   "source": [
    "bsoup2=BeautifulSoup(html_data2, \"html5lib\")\n",
    "print(bsoup2.prettify())"
   ]
  },
  {
   "cell_type": "code",
   "execution_count": null,
   "id": "3de14026",
   "metadata": {},
   "outputs": [],
   "source": [
    "gmeRevenue=pd.DataFrame(columns=[\"Date\",\"Revenue\"])\n",
    "\n",
    "for table in bsoup2.find_all('table'):\n",
    "    if table.find('th').getText().startswith(\"GameStop Quarterly Revenue\"):\n",
    "        for row in table.find(\"tbody\").find_all(\"tr\"):\n",
    "            col=row.find_all(\"td\")\n",
    "            if len(col)!=2: continue\n",
    "            Date=col[0].text\n",
    "            Revenue=col[1].text.replace(\"$\",\"\").replace(\",\",\"\")\n",
    "               \n",
    "            gmeRevenue=gme_revenue.append({\"Date\":Date, \"Revenue\":Revenue}, ignore_index=True)"
   ]
  },
  {
   "cell_type": "code",
   "execution_count": null,
   "id": "13634907",
   "metadata": {},
   "outputs": [],
   "source": [
    "gmeRevenue.tail(5)"
   ]
  },
  {
   "cell_type": "markdown",
   "id": "30557d3b",
   "metadata": {},
   "source": [
    "### Q5"
   ]
  },
  {
   "cell_type": "code",
   "execution_count": null,
   "id": "ae08a821",
   "metadata": {},
   "outputs": [],
   "source": [
    "def make_graph(stock_data, revenue_data, stock):\n",
    "    fig = make_subplots(rows=2, cols=1, shared_xaxes=True, subplot_titles=(\"Share Price (Historical)\", \"Historical Revenue\"), vertical_spacing = .3)\n",
    "    fig.add_trace(go.Scatter(x=pd.to_datetime(stock_data.Date, infer_datetime_format=True), y=stock_data.Close.astype(\"float\"), name=\"Share Price\"), row=1, col=1)\n",
    "    fig.add_trace(go.Scatter(x=pd.to_datetime(revenue_data.Date, infer_datetime_format=True), y=revenue_data.Revenue.astype(\"float\"), name=\"Revenue\"), row=2, col=1)\n",
    "    fig.update_xaxes(title_text=\"Date\", row=1, col=1)\n",
    "    fig.update_xaxes(title_text=\"Date\", row=2, col=1)\n",
    "    fig.update_yaxes(title_text=\"Price - $US\", row=1, col=1)\n",
    "    fig.update_yaxes(title_text=\"Revenue - $US Mill.\", row=2, col=1)\n",
    "    fig.update_layout(showlegend=False,\n",
    "    height=900,\n",
    "    title=stock,\n",
    "    xaxis_rangeslider_visible=True)\n",
    "    fig.show()"
   ]
  },
  {
   "cell_type": "code",
   "execution_count": null,
   "id": "30a8488b",
   "metadata": {},
   "outputs": [],
   "source": [
    "make_graph(teslaData, teslaRevenue, 'Tesla')"
   ]
  },
  {
   "cell_type": "markdown",
   "id": "73fdecc4",
   "metadata": {},
   "source": [
    "### Q6"
   ]
  },
  {
   "cell_type": "code",
   "execution_count": null,
   "id": "30bca414",
   "metadata": {},
   "outputs": [],
   "source": [
    "make_graph(gmeData, gmeRevenue, 'GameStop')"
   ]
  },
  {
   "cell_type": "code",
   "execution_count": null,
   "id": "a33dcb5f",
   "metadata": {},
   "outputs": [],
   "source": []
  }
 ],
 "metadata": {
  "kernelspec": {
   "display_name": "Python 3 (ipykernel)",
   "language": "python",
   "name": "python3"
  },
  "language_info": {
   "codemirror_mode": {
    "name": "ipython",
    "version": 3
   },
   "file_extension": ".py",
   "mimetype": "text/x-python",
   "name": "python",
   "nbconvert_exporter": "python",
   "pygments_lexer": "ipython3",
   "version": "3.8.13"
  }
 },
 "nbformat": 4,
 "nbformat_minor": 5
}
